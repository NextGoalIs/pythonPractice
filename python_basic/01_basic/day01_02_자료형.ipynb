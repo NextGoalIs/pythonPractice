{
 "cells": [
  {
   "cell_type": "markdown",
   "id": "76fd1ebc-00f6-49e5-8bca-22317ca83a21",
   "metadata": {},
   "source": [
    "숫자형"
   ]
  },
  {
   "cell_type": "markdown",
   "id": "0657f5a9-0ca3-45fa-8fd3-cfd132f78987",
   "metadata": {},
   "source": [
    "# 숫자형"
   ]
  },
  {
   "cell_type": "code",
   "execution_count": 3,
   "id": "d47140ef-ecf1-43cf-9c4d-29e9c706b076",
   "metadata": {},
   "outputs": [],
   "source": [
    "a = 123"
   ]
  },
  {
   "cell_type": "code",
   "execution_count": 4,
   "id": "ab92aac3-f877-4d8b-a3b1-1004946cc6ab",
   "metadata": {},
   "outputs": [
    {
     "data": {
      "text/plain": [
       "123"
      ]
     },
     "execution_count": 4,
     "metadata": {},
     "output_type": "execute_result"
    }
   ],
   "source": [
    "a"
   ]
  },
  {
   "cell_type": "code",
   "execution_count": 5,
   "id": "69ebd519-0cc5-4c96-9032-798c5666ff56",
   "metadata": {},
   "outputs": [
    {
     "name": "stdout",
     "output_type": "stream",
     "text": [
      "123\n"
     ]
    }
   ],
   "source": [
    "print(a)"
   ]
  },
  {
   "cell_type": "code",
   "execution_count": 6,
   "id": "63715ebc-6d4c-4c26-8fb3-7bc2d5d59a0f",
   "metadata": {},
   "outputs": [],
   "source": [
    "b = 456"
   ]
  },
  {
   "cell_type": "code",
   "execution_count": 7,
   "id": "5df68eff-304b-4f73-bf43-6fed2a8ed5fe",
   "metadata": {},
   "outputs": [
    {
     "data": {
      "text/plain": [
       "123"
      ]
     },
     "execution_count": 7,
     "metadata": {},
     "output_type": "execute_result"
    }
   ],
   "source": [
    "a"
   ]
  },
  {
   "cell_type": "code",
   "execution_count": 8,
   "id": "7ffa2ad6-4e6c-4e9d-b578-3939f4bc9fe2",
   "metadata": {},
   "outputs": [
    {
     "data": {
      "text/plain": [
       "456"
      ]
     },
     "execution_count": 8,
     "metadata": {},
     "output_type": "execute_result"
    }
   ],
   "source": [
    "a\n",
    "b"
   ]
  },
  {
   "cell_type": "code",
   "execution_count": 9,
   "id": "0917a1d8-5893-4526-a24b-76a544892c56",
   "metadata": {},
   "outputs": [
    {
     "name": "stdout",
     "output_type": "stream",
     "text": [
      "123\n"
     ]
    }
   ],
   "source": [
    "print(a)"
   ]
  },
  {
   "cell_type": "code",
   "execution_count": 10,
   "id": "85a200f7-9c9a-40b4-841e-e8ef799f6270",
   "metadata": {},
   "outputs": [
    {
     "name": "stdout",
     "output_type": "stream",
     "text": [
      "123\n"
     ]
    },
    {
     "data": {
      "text/plain": [
       "456"
      ]
     },
     "execution_count": 10,
     "metadata": {},
     "output_type": "execute_result"
    }
   ],
   "source": [
    "print(a)\n",
    "b"
   ]
  },
  {
   "cell_type": "code",
   "execution_count": 11,
   "id": "7c66c105-4b4d-44cf-aaeb-f23a79b96ddd",
   "metadata": {},
   "outputs": [
    {
     "data": {
      "text/plain": [
       "(123, 456)"
      ]
     },
     "execution_count": 11,
     "metadata": {},
     "output_type": "execute_result"
    }
   ],
   "source": [
    "a,b"
   ]
  },
  {
   "cell_type": "code",
   "execution_count": 12,
   "id": "f54c694e-9499-4a0d-bedc-7d29cdafdc0d",
   "metadata": {},
   "outputs": [
    {
     "data": {
      "text/plain": [
       "(123, 123)"
      ]
     },
     "execution_count": 12,
     "metadata": {},
     "output_type": "execute_result"
    }
   ],
   "source": [
    "a,a"
   ]
  },
  {
   "cell_type": "code",
   "execution_count": 13,
   "id": "38353753-294c-48fd-8325-cef987533891",
   "metadata": {},
   "outputs": [
    {
     "data": {
      "text/plain": [
       "int"
      ]
     },
     "execution_count": 13,
     "metadata": {},
     "output_type": "execute_result"
    }
   ],
   "source": [
    "type(a)"
   ]
  },
  {
   "cell_type": "code",
   "execution_count": 14,
   "id": "cfcdcd76-c45a-4cc1-bbe9-eb3736d293b9",
   "metadata": {},
   "outputs": [],
   "source": [
    "a = 1.9"
   ]
  },
  {
   "cell_type": "code",
   "execution_count": 15,
   "id": "1a8a6a7f-0cde-4e70-99da-11fbde41c41a",
   "metadata": {},
   "outputs": [
    {
     "data": {
      "text/plain": [
       "1.9"
      ]
     },
     "execution_count": 15,
     "metadata": {},
     "output_type": "execute_result"
    }
   ],
   "source": [
    "a"
   ]
  },
  {
   "cell_type": "code",
   "execution_count": 16,
   "id": "ae904362-0be6-4228-ad64-60f658af68ec",
   "metadata": {},
   "outputs": [
    {
     "data": {
      "text/plain": [
       "float"
      ]
     },
     "execution_count": 16,
     "metadata": {},
     "output_type": "execute_result"
    }
   ],
   "source": [
    "type(a)"
   ]
  },
  {
   "cell_type": "code",
   "execution_count": 17,
   "id": "408de6f9-9920-4688-845b-42c438076b05",
   "metadata": {},
   "outputs": [
    {
     "name": "stdout",
     "output_type": "stream",
     "text": [
      "1.9   1.9\n"
     ]
    }
   ],
   "source": [
    "print(a, ' ', a)"
   ]
  },
  {
   "cell_type": "code",
   "execution_count": 18,
   "id": "89099953-38af-41d1-8a61-e929f5b4738a",
   "metadata": {},
   "outputs": [
    {
     "name": "stdout",
     "output_type": "stream",
     "text": [
      "1.9 1.9\n"
     ]
    }
   ],
   "source": [
    "print(a,a)"
   ]
  },
  {
   "cell_type": "code",
   "execution_count": 19,
   "id": "5019cfab-ddbb-4815-adf7-c87329c98d8c",
   "metadata": {
    "tags": []
   },
   "outputs": [
    {
     "data": {
      "text/plain": [
       "\u001b[1;31mDocstring:\u001b[0m\n",
       "print(value, ..., sep=' ', end='\\n', file=sys.stdout, flush=False)\n",
       "\n",
       "Prints the values to a stream, or to sys.stdout by default.\n",
       "Optional keyword arguments:\n",
       "file:  a file-like object (stream); defaults to the current sys.stdout.\n",
       "sep:   string inserted between values, default a space.\n",
       "end:   string appended after the last value, default a newline.\n",
       "flush: whether to forcibly flush the stream.\n",
       "\u001b[1;31mType:\u001b[0m      builtin_function_or_method\n"
      ]
     },
     "metadata": {},
     "output_type": "display_data"
    }
   ],
   "source": [
    "print?"
   ]
  },
  {
   "cell_type": "code",
   "execution_count": 20,
   "id": "8241a73a-caea-4d5a-8476-09aa2ea9cdcd",
   "metadata": {
    "tags": []
   },
   "outputs": [
    {
     "name": "stdout",
     "output_type": "stream",
     "text": [
      "Help on built-in function print in module builtins:\n",
      "\n",
      "print(...)\n",
      "    print(value, ..., sep=' ', end='\\n', file=sys.stdout, flush=False)\n",
      "    \n",
      "    Prints the values to a stream, or to sys.stdout by default.\n",
      "    Optional keyword arguments:\n",
      "    file:  a file-like object (stream); defaults to the current sys.stdout.\n",
      "    sep:   string inserted between values, default a space.\n",
      "    end:   string appended after the last value, default a newline.\n",
      "    flush: whether to forcibly flush the stream.\n",
      "\n"
     ]
    }
   ],
   "source": [
    "help(print)"
   ]
  },
  {
   "cell_type": "code",
   "execution_count": 21,
   "id": "d01449eb-02f6-41b0-99cf-7dba6ff98124",
   "metadata": {
    "tags": []
   },
   "outputs": [
    {
     "name": "stdin",
     "output_type": "stream",
     "text": [
      " 마마무마마무마마무마무마무마무마맘무\n"
     ]
    },
    {
     "data": {
      "text/plain": [
       "'마마무마마무마마무마무마무마무마맘무'"
      ]
     },
     "execution_count": 21,
     "metadata": {},
     "output_type": "execute_result"
    }
   ],
   "source": [
    "input()"
   ]
  },
  {
   "cell_type": "code",
   "execution_count": 22,
   "id": "cc25447d-0813-4402-8184-710f9afd2fb5",
   "metadata": {},
   "outputs": [
    {
     "name": "stdin",
     "output_type": "stream",
     "text": [
      "숫자를 입력하세요 >>> 1122334455\n"
     ]
    },
    {
     "data": {
      "text/plain": [
       "'1122334455'"
      ]
     },
     "execution_count": 22,
     "metadata": {},
     "output_type": "execute_result"
    }
   ],
   "source": [
    "input('숫자를 입력하세요 >>>')"
   ]
  },
  {
   "cell_type": "code",
   "execution_count": 23,
   "id": "a24f9594-99f7-429b-a829-f5550dea3088",
   "metadata": {},
   "outputs": [
    {
     "name": "stdin",
     "output_type": "stream",
     "text": [
      "숫자입력하세요 123123\n"
     ]
    }
   ],
   "source": [
    "num1 = input('숫자입력하세요')"
   ]
  },
  {
   "cell_type": "code",
   "execution_count": 24,
   "id": "ff8ffe6b-ab45-46a0-9597-970ae14d5c14",
   "metadata": {},
   "outputs": [
    {
     "data": {
      "text/plain": [
       "str"
      ]
     },
     "execution_count": 24,
     "metadata": {},
     "output_type": "execute_result"
    }
   ],
   "source": [
    "type(num1)"
   ]
  },
  {
   "cell_type": "code",
   "execution_count": 25,
   "id": "c3c68397-a58c-4f82-816e-db03ddff14bf",
   "metadata": {},
   "outputs": [
    {
     "data": {
      "text/plain": [
       "'123123'"
      ]
     },
     "execution_count": 25,
     "metadata": {},
     "output_type": "execute_result"
    }
   ],
   "source": [
    "num1"
   ]
  },
  {
   "cell_type": "code",
   "execution_count": 26,
   "id": "13d5a65b-da9e-49ec-8925-a1522315f2c8",
   "metadata": {},
   "outputs": [
    {
     "name": "stdout",
     "output_type": "stream",
     "text": [
      "123123\n"
     ]
    }
   ],
   "source": [
    "print(num1)"
   ]
  },
  {
   "cell_type": "code",
   "execution_count": 27,
   "id": "3b67b963-a12d-4a7e-bd40-0a0bdd03aa9c",
   "metadata": {},
   "outputs": [],
   "source": [
    "# 박스에 과일을 넣는 작업 중입니다.\n",
    "# 박스당 들어가는 과일의 갯수와 전체 과일의 갯수를 입력받아서\n",
    "# 몇 박스 며\\"
   ]
  },
  {
   "cell_type": "code",
   "execution_count": 28,
   "id": "c67069ca-e52f-4f72-95f3-fff1081bb3fd",
   "metadata": {},
   "outputs": [
    {
     "name": "stdin",
     "output_type": "stream",
     "text": [
      "박스 당 과일 수를 입력해주세요. 10\n",
      "전체 과일 수를 입력해주세요. 31\n"
     ]
    },
    {
     "name": "stdout",
     "output_type": "stream",
     "text": [
      "4\n"
     ]
    }
   ],
   "source": [
    "fruitPerBox = int(input('박스 당 과일 수를 입력해주세요.'))\n",
    "allFruits = int(input('전체 과일 수를 입력해주세요.'))\n",
    "\n",
    "if allFruits % fruitPerBox == 0 :\n",
    "    print(allFruits // fruitPerBox)\n",
    "else:\n",
    "    print((allFruits // fruitPerBox) + 1)"
   ]
  },
  {
   "cell_type": "code",
   "execution_count": 29,
   "id": "9b1f7263-ce96-40ec-b0e0-d4dec7deacfa",
   "metadata": {},
   "outputs": [
    {
     "name": "stdin",
     "output_type": "stream",
     "text": [
      "박스 당 과일 수를 입력해주세요. 10\n",
      "전체 과일 수를 입력해주세요. 30\n"
     ]
    },
    {
     "name": "stdout",
     "output_type": "stream",
     "text": [
      "3\n"
     ]
    }
   ],
   "source": [
    "fruitPerBox = int(input('박스 당 과일 수를 입력해주세요.'))\n",
    "allFruits = int(input('전체 과일 수를 입력해주세요.'))\n",
    "\n",
    "if allFruits % fruitPerBox == 0 :\n",
    "    print(allFruits // fruitPerBox)\n",
    "else:\n",
    "    print((allFruits // fruitPerBox) + 1)"
   ]
  },
  {
   "cell_type": "code",
   "execution_count": 30,
   "id": "756d04b3-d0fb-4b4e-a4d7-9cfa87e908a8",
   "metadata": {},
   "outputs": [
    {
     "name": "stdin",
     "output_type": "stream",
     "text": [
      "박스 당 과일 수를 입력해주세요. 10\n",
      "전체 과일 수를 입력해주세요. 31\n"
     ]
    },
    {
     "data": {
      "text/plain": [
       "4"
      ]
     },
     "execution_count": 30,
     "metadata": {},
     "output_type": "execute_result"
    }
   ],
   "source": [
    "fruitPerBox = int(input('박스 당 과일 수를 입력해주세요.'))\n",
    "allFruits = int(input('전체 과일 수를 입력해주세요.'))\n",
    "\n",
    "allFruits // fruitPerBox if allFruits % fruitPerBox == 0 else (allFruits // fruitPerBox) + 1"
   ]
  },
  {
   "cell_type": "code",
   "execution_count": 31,
   "id": "a69e5ec4-6241-47ae-a03a-93758c64170f",
   "metadata": {},
   "outputs": [
    {
     "data": {
      "text/plain": [
       "'aaaaaaaaaa'"
      ]
     },
     "execution_count": 31,
     "metadata": {},
     "output_type": "execute_result"
    }
   ],
   "source": [
    "'aa'*5"
   ]
  },
  {
   "cell_type": "code",
   "execution_count": 32,
   "id": "60389ec4-78cc-4dc2-9c03-17472ce442c7",
   "metadata": {},
   "outputs": [],
   "source": [
    "# 주민번호 받아서 생년월일, 성별"
   ]
  },
  {
   "cell_type": "code",
   "execution_count": 35,
   "id": "2aae1b37-14eb-49fb-bb10-52174240b120",
   "metadata": {},
   "outputs": [
    {
     "name": "stdout",
     "output_type": "stream",
     "text": [
      "2단\n",
      "2 * 1 = 2\n",
      "2 * 2 = 4\n",
      "2 * 3 = 6\n",
      "2 * 4 = 8\n",
      "2 * 5 = 10\n",
      "2 * 6 = 12\n",
      "2 * 7 = 14\n",
      "2 * 8 = 16\n",
      "2 * 9 = 18\n",
      "3단\n",
      "3 * 1 = 3\n",
      "3 * 2 = 6\n",
      "3 * 3 = 9\n",
      "3 * 4 = 12\n",
      "3 * 5 = 15\n",
      "3 * 6 = 18\n",
      "3 * 7 = 21\n",
      "3 * 8 = 24\n",
      "3 * 9 = 27\n",
      "4단\n",
      "4 * 1 = 4\n",
      "4 * 2 = 8\n",
      "4 * 3 = 12\n",
      "4 * 4 = 16\n",
      "4 * 5 = 20\n",
      "4 * 6 = 24\n",
      "4 * 7 = 28\n",
      "4 * 8 = 32\n",
      "4 * 9 = 36\n",
      "5단\n",
      "5 * 1 = 5\n",
      "5 * 2 = 10\n",
      "5 * 3 = 15\n",
      "5 * 4 = 20\n",
      "5 * 5 = 25\n",
      "5 * 6 = 30\n",
      "5 * 7 = 35\n",
      "5 * 8 = 40\n",
      "5 * 9 = 45\n",
      "6단\n",
      "6 * 1 = 6\n",
      "6 * 2 = 12\n",
      "6 * 3 = 18\n",
      "6 * 4 = 24\n",
      "6 * 5 = 30\n",
      "6 * 6 = 36\n",
      "6 * 7 = 42\n",
      "6 * 8 = 48\n",
      "6 * 9 = 54\n",
      "7단\n",
      "7 * 1 = 7\n",
      "7 * 2 = 14\n",
      "7 * 3 = 21\n",
      "7 * 4 = 28\n",
      "7 * 5 = 35\n",
      "7 * 6 = 42\n",
      "7 * 7 = 49\n",
      "7 * 8 = 56\n",
      "7 * 9 = 63\n",
      "8단\n",
      "8 * 1 = 8\n",
      "8 * 2 = 16\n",
      "8 * 3 = 24\n",
      "8 * 4 = 32\n",
      "8 * 5 = 40\n",
      "8 * 6 = 48\n",
      "8 * 7 = 56\n",
      "8 * 8 = 64\n",
      "8 * 9 = 72\n",
      "9단\n",
      "9 * 1 = 9\n",
      "9 * 2 = 18\n",
      "9 * 3 = 27\n",
      "9 * 4 = 36\n",
      "9 * 5 = 45\n",
      "9 * 6 = 54\n",
      "9 * 7 = 63\n",
      "9 * 8 = 72\n",
      "9 * 9 = 81\n"
     ]
    }
   ],
   "source": [
    "for a in range(2,10):\n",
    "    print(f'%d단' % a)\n",
    "    for b in range(1,10):\n",
    "        print(f'%d * %d = %d' % (a, b, a*b))"
   ]
  },
  {
   "cell_type": "code",
   "execution_count": null,
   "id": "97e9de84-b401-4d45-bae6-47cf27a32705",
   "metadata": {},
   "outputs": [],
   "source": []
  }
 ],
 "metadata": {
  "kernelspec": {
   "display_name": "Python 3 (ipykernel)",
   "language": "python",
   "name": "python3"
  },
  "language_info": {
   "codemirror_mode": {
    "name": "ipython",
    "version": 3
   },
   "file_extension": ".py",
   "mimetype": "text/x-python",
   "name": "python",
   "nbconvert_exporter": "python",
   "pygments_lexer": "ipython3",
   "version": "3.9.12"
  }
 },
 "nbformat": 4,
 "nbformat_minor": 5
}
